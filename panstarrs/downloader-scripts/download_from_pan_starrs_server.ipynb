{
 "cells": [
  {
   "cell_type": "code",
   "execution_count": 1,
   "id": "5b07132f-16e2-4a2f-b25d-befca8ede125",
   "metadata": {},
   "outputs": [],
   "source": [
    "import os\n",
    "from os.path import join\n",
    "import urllib.request #https://stackoverflow.com/questions/17960942/attributeerror-module-object-has-no-attribute-urlretrieve\n",
    "from html_parser import retrieve_info_for_galaxy"
   ]
  },
  {
   "cell_type": "code",
   "execution_count": 2,
   "id": "845fcb28-d4b4-43ab-89ce-bc31b6f45616",
   "metadata": {},
   "outputs": [],
   "source": [
    "#constants:\n",
    "PATH_TO_GALAXY_INFO_FILE = \"..\\\\table_info\\\\size_of_galaxies\\\\Table3_part3.txt\"\n",
    "DOWNLOAD_PATH = \"\""
   ]
  },
  {
   "cell_type": "code",
   "execution_count": 3,
   "id": "7a1c10e3-07cc-43a7-9b1f-1df88746efdf",
   "metadata": {},
   "outputs": [],
   "source": [
    "size = \"\"\"NGC598: 6000\n",
    "NGC5236: 2000\"\"\""
   ]
  },
  {
   "cell_type": "code",
   "execution_count": 4,
   "id": "0e6d113e-1f4b-4eaa-b97f-7cef6d5076ad",
   "metadata": {},
   "outputs": [],
   "source": [
    "#helper functions:\n",
    "def get_names_and_pixel_size(file_path, delimeter=\":\"):\n",
    "    name_to_pixel_dict = dict()\n",
    "    for line in size.strip().split(\"\\n\"):\n",
    "        name = line.split(delimeter)[0].strip()\n",
    "        pixel_size = line.split(delimeter)[1].strip()\n",
    "        name_to_pixel_dict[name] = pixel_size\n",
    "    \"\"\"\n",
    "    with open(file_path,'r') as f:\n",
    "        for each_line in f.readlines():\n",
    "            if not each_line.startswith('#') and delimeter in each_line:\n",
    "                name = each_line.split(delimeter)[0].strip()\n",
    "                pixel_size = each_line.split(delimeter)[1].strip()\n",
    "                name_to_pixel_dict[name] = pixel_size\n",
    "    \"\"\"\n",
    "    return name_to_pixel_dict\n",
    "\n",
    "def write_to_file(to_write,folder,file_name):\n",
    "    check_if_folder_exists_and_if_not_make_folder(folder)\n",
    "    path = join(folder,file_name)\n",
    "    \n",
    "    with open(path, 'a') as out:\n",
    "        out.write(to_write + '\\n')\n",
    "    out.close()\n",
    "\n",
    "def check_if_folder_exists_and_if_not_make_folder(folder):\n",
    "    '''create folder if does not exist'''\n",
    "    if not os.path.exists(folder):\n",
    "        os.makedirs(folder)\n",
    "        \n",
    "def download_fits_file(url_to_fit,name,band,is_mask=False):\n",
    "    folder = join(DOWNLOAD_PATH,name)\n",
    "    check_if_folder_exists_and_if_not_make_folder(folder)\n",
    "\n",
    "    file_name_ending = \"_mask\" if is_mask else \"\"\n",
    "\n",
    "    file_name = \"{}_{}{}.fits\".format(name,band,file_name_ending)\n",
    "    path_to_save = join(folder,file_name)\n",
    "    urllib.request.urlretrieve(url_to_fit,path_to_save)\n",
    "\n",
    "def download_color(url_to_color, name):\n",
    "    folder = join(DOWNLOAD_PATH,name)\n",
    "\n",
    "    file_name = \"{}_color.jfif\".format(name)\n",
    "    path_to_save = join(folder,file_name)\n",
    "    urllib.request.urlretrieve(url_to_color,path_to_save)"
   ]
  },
  {
   "cell_type": "code",
   "execution_count": 5,
   "id": "fdd306ce-5943-4fd2-879c-afe84211dcc3",
   "metadata": {},
   "outputs": [],
   "source": [
    "#primary function:\n",
    "def run_on_galaxy(name,pixel_size=240):\n",
    "    (url, ra_dec_string, arcsec_size_string, color_image_link, fits_cutout_link_dict, fits_cutout_mask_link_dict) = retrieve_info_for_galaxy(name,pixel_size)\n",
    "    folder = join(DOWNLOAD_PATH,name)\n",
    "    \n",
    "    #print(folder)\n",
    "    \n",
    "    if url != \"\":\n",
    "        write_to_file(url,folder,\"{}_link.txt\".format(name))\n",
    "    if ra_dec_string != \"\":\n",
    "        write_to_file(ra_dec_string,folder,\"{}_ra_dec.txt\".format(name))\n",
    "    if arcsec_size_string != \"\":\n",
    "        size_string = \"{} pixels {} arcsec\".format(pixel_size,arcsec_size_string)\n",
    "        write_to_file(size_string,folder,\"{}_size.txt\".format(name))\n",
    "    if len(fits_cutout_link_dict) != 0:\n",
    "        for each_band in fits_cutout_link_dict:\n",
    "            url_to_fit = fits_cutout_link_dict[each_band]\n",
    "            download_fits_file(url_to_fit,name,each_band,is_mask=False)\n",
    "    if len(fits_cutout_link_dict) != 0:\n",
    "        for each_band in fits_cutout_mask_link_dict:\n",
    "            url_to_fit = fits_cutout_mask_link_dict[each_band]\n",
    "            download_fits_file(url_to_fit,name,each_band,is_mask=True)\n",
    "    if color_image_link != \"\":\n",
    "        download_color(color_image_link, name)"
   ]
  },
  {
   "cell_type": "code",
   "execution_count": 6,
   "id": "af37d485-768c-4149-b9c4-15b5f1e5adb2",
   "metadata": {},
   "outputs": [
    {
     "name": "stdout",
     "output_type": "stream",
     "text": [
      "{'NGC1232': '1200', 'NGC2553': '800', 'NGC3344': '800', 'NGC3346': '800', 'NGC3351': '800', 'NGC3359': '1000', 'NGC3367': '600', 'NGC3381': '600', 'NGC3395': '400', 'NGC3423': '800', 'NGC3445': '400', 'PGC39728': '200', 'PGC46767': '400', 'PGC49906': '200'}\n",
      "NGC1232: 1200 (#1 of 14)\n",
      "NGC2553: 800 (#2 of 14)\n",
      "NGC3344: 800 (#3 of 14)\n",
      "NGC3346: 800 (#4 of 14)\n",
      "NGC3351: 800 (#5 of 14)\n",
      "NGC3359: 1000 (#6 of 14)\n",
      "NGC3367: 600 (#7 of 14)\n",
      "NGC3381: 600 (#8 of 14)\n",
      "NGC3395: 400 (#9 of 14)\n",
      "NGC3423: 800 (#10 of 14)\n",
      "NGC3445: 400 (#11 of 14)\n",
      "PGC39728: 200 (#12 of 14)\n",
      "PGC46767: 400 (#13 of 14)\n",
      "PGC49906: 200 (#14 of 14)\n"
     ]
    }
   ],
   "source": [
    "#run with galaxy:\n",
    "\n",
    "gals = get_names_and_pixel_size(PATH_TO_GALAXY_INFO_FILE)\n",
    "total_gals = len(gals); current = 1\n",
    "print(gals)\n",
    "\n",
    "\n",
    "for each_gal in gals:\n",
    "    the_size = gals[each_gal]\n",
    "    \n",
    "    print(\"{}: {} (#{} of {})\".format(each_gal, the_size, current, total_gals))\n",
    "    \n",
    "    try:\n",
    "        run_on_galaxy(each_gal,the_size)\n",
    "        #break\n",
    "    except Exception as e:\n",
    "        print(\"Error running on galaxy: {}\".format(each_gal))\n",
    "        print(e)\n",
    "        \n",
    "    current += 1\n",
    "        \n",
    "\n",
    "    "
   ]
  },
  {
   "cell_type": "code",
   "execution_count": null,
   "id": "0c53d1af-55f7-438a-abd6-91f1a6b06a6e",
   "metadata": {},
   "outputs": [],
   "source": []
  },
  {
   "cell_type": "code",
   "execution_count": null,
   "id": "8708e647-9ca7-41fa-b1b1-9f4e7356c546",
   "metadata": {},
   "outputs": [],
   "source": []
  }
 ],
 "metadata": {
  "kernelspec": {
   "display_name": "Python 3",
   "language": "python",
   "name": "python3"
  },
  "language_info": {
   "codemirror_mode": {
    "name": "ipython",
    "version": 3
   },
   "file_extension": ".py",
   "mimetype": "text/x-python",
   "name": "python",
   "nbconvert_exporter": "python",
   "pygments_lexer": "ipython3",
   "version": "3.8.8"
  }
 },
 "nbformat": 4,
 "nbformat_minor": 5
}
