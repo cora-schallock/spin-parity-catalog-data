{
 "cells": [
  {
   "cell_type": "code",
   "execution_count": 11,
   "id": "2bf10790-a6cf-401c-a31a-67d3c7bb4e08",
   "metadata": {},
   "outputs": [],
   "source": [
    "import os\n",
    "import csv"
   ]
  },
  {
   "cell_type": "code",
   "execution_count": 12,
   "id": "567db1a0-4569-4f09-a893-ab48ed13dbe4",
   "metadata": {},
   "outputs": [],
   "source": [
    "PATH_TO_SPIN_PARITY_GALAXIES = \"C:\\\\Users\\\\school\\\\Desktop\\\\github\\\\spin-parity-catalog-data\\\\panstarrs\"\n",
    "\n",
    "#TABLE_NAME = 'table5' #['table2', 'table3', 'table4', 'table5']\n",
    "TABLE_NAME = \"figure11\""
   ]
  },
  {
   "cell_type": "code",
   "execution_count": 13,
   "id": "ea3a793a-f3b4-49bd-bf2a-bb4a8088f337",
   "metadata": {},
   "outputs": [],
   "source": [
    "def extract_ra_dec(ra_dec_file):\n",
    "    if not os.path.exists(ra_dec_file): return None\n",
    "    with open(ra_dec_file) as f:\n",
    "        to_parse = f.read().replace(\")\",\" \").strip().replace(\",\",\"=\").split(\"=\") #len 4\n",
    "        if len(to_parse) != 4: return None\n",
    "        try:\n",
    "            ra = float(to_parse[1].strip())\n",
    "            dec = float(to_parse[3].strip())\n",
    "            return (ra,dec)\n",
    "        except:\n",
    "            return None\n",
    "\n",
    "def extract_size_in_deg(size_file):\n",
    "    if not os.path.exists(size_file): return None\n",
    "    with open(size_file) as f:\n",
    "        to_parse = f.read().split(\" \")\n",
    "        \n",
    "        if len(to_parse) != 4: return None\n",
    "    \n",
    "        try:\n",
    "            return float(to_parse[2])/3600 #1 deg = 3600 arc sec https://www.advancedconverter.com/unit-conversions/angle-conversion/degrees-to-arcseconds\n",
    "        except: return None\n",
    "        \n",
    "def get_info_for_galaxy(name):\n",
    "    ra_dec_file = os.path.join(PATH_TO_SPIN_PARITY_GALAXIES,TABLE_NAME,name,'{}_ra_dec.txt'.format(name))\n",
    "    size_file = os.path.join(PATH_TO_SPIN_PARITY_GALAXIES,TABLE_NAME,name,'{}_size.txt'.format(name))\n",
    "    \n",
    "    the_ra_dec = extract_ra_dec(ra_dec_file)\n",
    "    the_size_in_deg = extract_size_in_deg(size_file)\n",
    "\n",
    "    if the_ra_dec is None or len(the_ra_dec) != 2 or the_size_in_deg is None: return []\n",
    "    \n",
    "    return [name,the_ra_dec[0],the_ra_dec[1],the_size_in_deg]"
   ]
  },
  {
   "cell_type": "code",
   "execution_count": 14,
   "id": "a5af0150-3e12-40c9-a961-bd4df456c8ec",
   "metadata": {},
   "outputs": [],
   "source": [
    "def get_info_for_all_galaxies_in_table():\n",
    "    the_rows = []\n",
    "    for name in os.listdir(os.path.join(PATH_TO_SPIN_PARITY_GALAXIES,TABLE_NAME)):\n",
    "        current_row = get_info_for_galaxy(name)\n",
    "        if len(current_row) != 4: continue\n",
    "        \n",
    "        the_rows.append(current_row)\n",
    "    return the_rows\n",
    "        \n",
    "def write_csv(file_name,rows):\n",
    "    with open(file_name, 'w', newline='') as csvfile:\n",
    "        fieldnames = ['name', 'ra', 'dec', 'size_deg']\n",
    "        writer = csv.DictWriter(csvfile, fieldnames=fieldnames)\n",
    "\n",
    "        writer.writeheader()\n",
    "        for each_row in rows:\n",
    "            name = each_row[0]\n",
    "            ra = each_row[1]\n",
    "            dec = each_row[2]\n",
    "            the_size = each_row[3]\n",
    "            writer.writerow({'name':name, 'ra':ra, 'dec':dec, 'size_deg':the_size})\n",
    "            \n",
    "def construct_csv():\n",
    "    rows = get_info_for_all_galaxies_in_table()\n",
    "    file_name = \"{}.csv\".format(TABLE_NAME)\n",
    "    write_csv(file_name,rows)"
   ]
  },
  {
   "cell_type": "code",
   "execution_count": 15,
   "id": "b76bacf0-d649-4226-894d-e0fec939d9eb",
   "metadata": {},
   "outputs": [],
   "source": [
    "construct_csv()"
   ]
  },
  {
   "cell_type": "code",
   "execution_count": null,
   "id": "6a43b6eb-e52b-40fa-adb2-d1f7d6f18449",
   "metadata": {},
   "outputs": [],
   "source": []
  }
 ],
 "metadata": {
  "kernelspec": {
   "display_name": "Python 3 (ipykernel)",
   "language": "python",
   "name": "python3"
  },
  "language_info": {
   "codemirror_mode": {
    "name": "ipython",
    "version": 3
   },
   "file_extension": ".py",
   "mimetype": "text/x-python",
   "name": "python",
   "nbconvert_exporter": "python",
   "pygments_lexer": "ipython3",
   "version": "3.11.3"
  }
 },
 "nbformat": 4,
 "nbformat_minor": 5
}
